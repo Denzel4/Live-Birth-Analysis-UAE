{
 "cells": [
  {
   "cell_type": "markdown",
   "metadata": {},
   "source": [
    "# DATA ANALYSIS OF BIRTH COUNTS BY GENDER, MARITAL STATUS, NATIONALITY GROUP AND EMIRATE"
   ]
  },
  {
   "cell_type": "markdown",
   "metadata": {},
   "source": [
    "According to the Centers for Disease  Control and Prevention, popularly referred to as the CDC, following the  Model State Vital Statistics Act and Regulations Revision of 1992 (1) proposes the following definition of live birth. This definition is based on the World Health Organization's definition of 1950, which was updated in 1988 by a working group organized by the American Academy of Pediatrics and the American College of Obstetricians and Gynecologists (2). Clarifiers were introduced to help decide what should be called a live birth in the revision:\n",
    "\"Live Birth\" means the complete expulsion or extraction from its mother of a product of human conception, regardless of the duration of pregnancy, which, after such expulsion or extraction, breathes or shows some other evidence of life such as beating of the heart, pulsation of the umbilical cord, or definite movement of voluntary muscles, whether or not the umbilical cord has been cut or the fetus has been born alive. Heartbeats should be distinguished from intermittent cardiac contractions, and respirations should be distinguished from brief respiratory attempts or gasps.\n"
   ]
  },
  {
   "cell_type": "markdown",
   "metadata": {},
   "source": [
    "## IMPORTING MODULES"
   ]
  },
  {
   "cell_type": "code",
   "execution_count": 1,
   "metadata": {},
   "outputs": [],
   "source": [
    "import pandas as pd\n",
    "import matplotlib.pyplot as plt\n",
    "import seaborn as sns"
   ]
  },
  {
   "cell_type": "markdown",
   "metadata": {},
   "source": [
    "Loading the Data"
   ]
  },
  {
   "cell_type": "code",
   "execution_count": 2,
   "metadata": {},
   "outputs": [],
   "source": [
    "data = pd.read_excel('birthcounts.xlsx')"
   ]
  },
  {
   "cell_type": "code",
   "execution_count": null,
   "metadata": {},
   "outputs": [],
   "source": []
  },
  {
   "cell_type": "markdown",
   "metadata": {},
   "source": [
    "# UNDERSTANDING THE DATA SET"
   ]
  },
  {
   "cell_type": "code",
   "execution_count": 3,
   "metadata": {},
   "outputs": [
    {
     "data": {
      "text/html": [
       "<div>\n",
       "<style scoped>\n",
       "    .dataframe tbody tr th:only-of-type {\n",
       "        vertical-align: middle;\n",
       "    }\n",
       "\n",
       "    .dataframe tbody tr th {\n",
       "        vertical-align: top;\n",
       "    }\n",
       "\n",
       "    .dataframe thead th {\n",
       "        text-align: right;\n",
       "    }\n",
       "</style>\n",
       "<table border=\"1\" class=\"dataframe\">\n",
       "  <thead>\n",
       "    <tr style=\"text-align: right;\">\n",
       "      <th></th>\n",
       "      <th>Year</th>\n",
       "      <th>Emirate En</th>\n",
       "      <th>Emirate Ar</th>\n",
       "      <th>Geo Coordination</th>\n",
       "      <th>Nationality Group En</th>\n",
       "      <th>Nationality Group Ar</th>\n",
       "      <th>Mother's Marital Status En</th>\n",
       "      <th>Mother's Marital Status Ar</th>\n",
       "      <th>Gender En</th>\n",
       "      <th>Gender Ar</th>\n",
       "      <th>Total</th>\n",
       "    </tr>\n",
       "  </thead>\n",
       "  <tbody>\n",
       "    <tr>\n",
       "      <th>0</th>\n",
       "      <td>2005</td>\n",
       "      <td>Abu Dhabi</td>\n",
       "      <td>ابو ظبي</td>\n",
       "      <td>24.4539° N, 54.3773° E</td>\n",
       "      <td>Citizen</td>\n",
       "      <td>مواطن</td>\n",
       "      <td>Married</td>\n",
       "      <td>متزوجة</td>\n",
       "      <td>Male</td>\n",
       "      <td>ذكر</td>\n",
       "      <td>6304</td>\n",
       "    </tr>\n",
       "    <tr>\n",
       "      <th>1</th>\n",
       "      <td>2005</td>\n",
       "      <td>Abu Dhabi</td>\n",
       "      <td>ابو ظبي</td>\n",
       "      <td>24.4539° N, 54.3773° E</td>\n",
       "      <td>Citizen</td>\n",
       "      <td>مواطن</td>\n",
       "      <td>Married</td>\n",
       "      <td>متزوجة</td>\n",
       "      <td>Female</td>\n",
       "      <td>انثي</td>\n",
       "      <td>5993</td>\n",
       "    </tr>\n",
       "    <tr>\n",
       "      <th>2</th>\n",
       "      <td>2005</td>\n",
       "      <td>Abu Dhabi</td>\n",
       "      <td>ابو ظبي</td>\n",
       "      <td>24.4539° N, 54.3773° E</td>\n",
       "      <td>Expat</td>\n",
       "      <td>وافد</td>\n",
       "      <td>Married</td>\n",
       "      <td>متزوجة</td>\n",
       "      <td>Male</td>\n",
       "      <td>ذكر</td>\n",
       "      <td>7667</td>\n",
       "    </tr>\n",
       "    <tr>\n",
       "      <th>3</th>\n",
       "      <td>2005</td>\n",
       "      <td>Abu Dhabi</td>\n",
       "      <td>ابو ظبي</td>\n",
       "      <td>24.4539° N, 54.3773° E</td>\n",
       "      <td>Expat</td>\n",
       "      <td>وافد</td>\n",
       "      <td>Married</td>\n",
       "      <td>متزوجة</td>\n",
       "      <td>Female</td>\n",
       "      <td>انثي</td>\n",
       "      <td>7149</td>\n",
       "    </tr>\n",
       "    <tr>\n",
       "      <th>4</th>\n",
       "      <td>2005</td>\n",
       "      <td>Dubai</td>\n",
       "      <td>دبي</td>\n",
       "      <td>25.2048° N, 55.2708° E</td>\n",
       "      <td>Citizen</td>\n",
       "      <td>مواطن</td>\n",
       "      <td>Married</td>\n",
       "      <td>متزوجة</td>\n",
       "      <td>Male</td>\n",
       "      <td>ذكر</td>\n",
       "      <td>3706</td>\n",
       "    </tr>\n",
       "  </tbody>\n",
       "</table>\n",
       "</div>"
      ],
      "text/plain": [
       "   Year  Emirate En Emirate Ar        Geo Coordination Nationality Group En  \\\n",
       "0  2005   Abu Dhabi    ابو ظبي  24.4539° N, 54.3773° E              Citizen   \n",
       "1  2005   Abu Dhabi    ابو ظبي  24.4539° N, 54.3773° E              Citizen   \n",
       "2  2005   Abu Dhabi    ابو ظبي  24.4539° N, 54.3773° E                Expat   \n",
       "3  2005   Abu Dhabi    ابو ظبي  24.4539° N, 54.3773° E                Expat   \n",
       "4  2005       Dubai        دبي  25.2048° N, 55.2708° E              Citizen   \n",
       "\n",
       "  Nationality Group Ar Mother's Marital Status En Mother's Marital Status Ar  \\\n",
       "0                مواطن                    Married                     متزوجة   \n",
       "1                مواطن                    Married                     متزوجة   \n",
       "2                 وافد                    Married                     متزوجة   \n",
       "3                 وافد                    Married                     متزوجة   \n",
       "4                مواطن                    Married                     متزوجة   \n",
       "\n",
       "  Gender En Gender Ar  Total  \n",
       "0      Male       ذكر   6304  \n",
       "1    Female      انثي   5993  \n",
       "2      Male       ذكر   7667  \n",
       "3    Female      انثي   7149  \n",
       "4      Male       ذكر   3706  "
      ]
     },
     "execution_count": 3,
     "metadata": {},
     "output_type": "execute_result"
    }
   ],
   "source": [
    "#first 5 rows\n",
    "data.head()"
   ]
  },
  {
   "cell_type": "code",
   "execution_count": 4,
   "metadata": {},
   "outputs": [
    {
     "data": {
      "text/html": [
       "<div>\n",
       "<style scoped>\n",
       "    .dataframe tbody tr th:only-of-type {\n",
       "        vertical-align: middle;\n",
       "    }\n",
       "\n",
       "    .dataframe tbody tr th {\n",
       "        vertical-align: top;\n",
       "    }\n",
       "\n",
       "    .dataframe thead th {\n",
       "        text-align: right;\n",
       "    }\n",
       "</style>\n",
       "<table border=\"1\" class=\"dataframe\">\n",
       "  <thead>\n",
       "    <tr style=\"text-align: right;\">\n",
       "      <th></th>\n",
       "      <th>Year</th>\n",
       "      <th>Emirate En</th>\n",
       "      <th>Emirate Ar</th>\n",
       "      <th>Geo Coordination</th>\n",
       "      <th>Nationality Group En</th>\n",
       "      <th>Nationality Group Ar</th>\n",
       "      <th>Mother's Marital Status En</th>\n",
       "      <th>Mother's Marital Status Ar</th>\n",
       "      <th>Gender En</th>\n",
       "      <th>Gender Ar</th>\n",
       "      <th>Total</th>\n",
       "    </tr>\n",
       "  </thead>\n",
       "  <tbody>\n",
       "    <tr>\n",
       "      <th>388</th>\n",
       "      <td>2018</td>\n",
       "      <td>Ras Al Khaima</td>\n",
       "      <td>رأس الخيمة</td>\n",
       "      <td>25.8007° N, 55.9762° E</td>\n",
       "      <td>Expat</td>\n",
       "      <td>وافد</td>\n",
       "      <td>Married</td>\n",
       "      <td>متزوجة</td>\n",
       "      <td>Female</td>\n",
       "      <td>انثي</td>\n",
       "      <td>770</td>\n",
       "    </tr>\n",
       "    <tr>\n",
       "      <th>389</th>\n",
       "      <td>2018</td>\n",
       "      <td>Fujairah</td>\n",
       "      <td>الفجيرة</td>\n",
       "      <td>25.1288° N, 56.3265° E</td>\n",
       "      <td>Citizen</td>\n",
       "      <td>مواطن</td>\n",
       "      <td>Married</td>\n",
       "      <td>متزوجة</td>\n",
       "      <td>Male</td>\n",
       "      <td>ذكر</td>\n",
       "      <td>1122</td>\n",
       "    </tr>\n",
       "    <tr>\n",
       "      <th>390</th>\n",
       "      <td>2018</td>\n",
       "      <td>Fujairah</td>\n",
       "      <td>الفجيرة</td>\n",
       "      <td>25.1288° N, 56.3265° E</td>\n",
       "      <td>Citizen</td>\n",
       "      <td>مواطن</td>\n",
       "      <td>Married</td>\n",
       "      <td>متزوجة</td>\n",
       "      <td>Female</td>\n",
       "      <td>انثي</td>\n",
       "      <td>1113</td>\n",
       "    </tr>\n",
       "    <tr>\n",
       "      <th>391</th>\n",
       "      <td>2018</td>\n",
       "      <td>Fujairah</td>\n",
       "      <td>الفجيرة</td>\n",
       "      <td>25.1288° N, 56.3265° E</td>\n",
       "      <td>Expat</td>\n",
       "      <td>وافد</td>\n",
       "      <td>Married</td>\n",
       "      <td>متزوجة</td>\n",
       "      <td>Male</td>\n",
       "      <td>ذكر</td>\n",
       "      <td>672</td>\n",
       "    </tr>\n",
       "    <tr>\n",
       "      <th>392</th>\n",
       "      <td>2018</td>\n",
       "      <td>Fujairah</td>\n",
       "      <td>الفجيرة</td>\n",
       "      <td>25.1288° N, 56.3265° E</td>\n",
       "      <td>Expat</td>\n",
       "      <td>وافد</td>\n",
       "      <td>Married</td>\n",
       "      <td>متزوجة</td>\n",
       "      <td>Female</td>\n",
       "      <td>انثي</td>\n",
       "      <td>640</td>\n",
       "    </tr>\n",
       "  </tbody>\n",
       "</table>\n",
       "</div>"
      ],
      "text/plain": [
       "     Year      Emirate En  Emirate Ar        Geo Coordination  \\\n",
       "388  2018   Ras Al Khaima  رأس الخيمة  25.8007° N, 55.9762° E   \n",
       "389  2018        Fujairah     الفجيرة  25.1288° N, 56.3265° E   \n",
       "390  2018        Fujairah     الفجيرة  25.1288° N, 56.3265° E   \n",
       "391  2018        Fujairah     الفجيرة  25.1288° N, 56.3265° E   \n",
       "392  2018        Fujairah     الفجيرة  25.1288° N, 56.3265° E   \n",
       "\n",
       "    Nationality Group En Nationality Group Ar Mother's Marital Status En  \\\n",
       "388                Expat                 وافد                    Married   \n",
       "389              Citizen                مواطن                    Married   \n",
       "390              Citizen                مواطن                    Married   \n",
       "391                Expat                 وافد                    Married   \n",
       "392                Expat                 وافد                    Married   \n",
       "\n",
       "    Mother's Marital Status Ar Gender En Gender Ar  Total  \n",
       "388                     متزوجة    Female      انثي    770  \n",
       "389                     متزوجة      Male       ذكر   1122  \n",
       "390                     متزوجة    Female      انثي   1113  \n",
       "391                     متزوجة      Male       ذكر    672  \n",
       "392                     متزوجة    Female      انثي    640  "
      ]
     },
     "execution_count": 4,
     "metadata": {},
     "output_type": "execute_result"
    }
   ],
   "source": [
    "#Last 5 rows\n",
    "data.tail()"
   ]
  },
  {
   "cell_type": "code",
   "execution_count": 5,
   "metadata": {},
   "outputs": [],
   "source": [
    "#LIVE BIRTH DATA SET SHAPE"
   ]
  },
  {
   "cell_type": "code",
   "execution_count": 6,
   "metadata": {},
   "outputs": [
    {
     "data": {
      "text/plain": [
       "(393, 11)"
      ]
     },
     "execution_count": 6,
     "metadata": {},
     "output_type": "execute_result"
    }
   ],
   "source": [
    "data.shape"
   ]
  },
  {
   "cell_type": "code",
   "execution_count": 7,
   "metadata": {},
   "outputs": [
    {
     "data": {
      "text/plain": [
       "4323"
      ]
     },
     "execution_count": 7,
     "metadata": {},
     "output_type": "execute_result"
    }
   ],
   "source": [
    "#LIVE BIRTH DATA SET SIZE\n",
    "data.size"
   ]
  },
  {
   "cell_type": "code",
   "execution_count": 8,
   "metadata": {},
   "outputs": [
    {
     "name": "stdout",
     "output_type": "stream",
     "text": [
      "<class 'pandas.core.frame.DataFrame'>\n",
      "RangeIndex: 393 entries, 0 to 392\n",
      "Data columns (total 11 columns):\n",
      " #   Column                      Non-Null Count  Dtype \n",
      "---  ------                      --------------  ----- \n",
      " 0   Year                        393 non-null    int64 \n",
      " 1   Emirate En                  393 non-null    object\n",
      " 2   Emirate Ar                  393 non-null    object\n",
      " 3   Geo Coordination            393 non-null    object\n",
      " 4   Nationality Group En        393 non-null    object\n",
      " 5   Nationality Group Ar        393 non-null    object\n",
      " 6   Mother's Marital Status En  393 non-null    object\n",
      " 7   Mother's Marital Status Ar  393 non-null    object\n",
      " 8   Gender En                   393 non-null    object\n",
      " 9   Gender Ar                   393 non-null    object\n",
      " 10  Total                       393 non-null    int64 \n",
      "dtypes: int64(2), object(9)\n",
      "memory usage: 33.9+ KB\n"
     ]
    }
   ],
   "source": [
    "#information about the data\n",
    "data.info()"
   ]
  },
  {
   "cell_type": "code",
   "execution_count": 9,
   "metadata": {
    "scrolled": true
   },
   "outputs": [
    {
     "data": {
      "text/html": [
       "<div>\n",
       "<style scoped>\n",
       "    .dataframe tbody tr th:only-of-type {\n",
       "        vertical-align: middle;\n",
       "    }\n",
       "\n",
       "    .dataframe tbody tr th {\n",
       "        vertical-align: top;\n",
       "    }\n",
       "\n",
       "    .dataframe thead th {\n",
       "        text-align: right;\n",
       "    }\n",
       "</style>\n",
       "<table border=\"1\" class=\"dataframe\">\n",
       "  <thead>\n",
       "    <tr style=\"text-align: right;\">\n",
       "      <th></th>\n",
       "      <th>Year</th>\n",
       "      <th>Total</th>\n",
       "    </tr>\n",
       "  </thead>\n",
       "  <tbody>\n",
       "    <tr>\n",
       "      <th>count</th>\n",
       "      <td>393.000000</td>\n",
       "      <td>393.000000</td>\n",
       "    </tr>\n",
       "    <tr>\n",
       "      <th>mean</th>\n",
       "      <td>2011.513995</td>\n",
       "      <td>2979.145038</td>\n",
       "    </tr>\n",
       "    <tr>\n",
       "      <th>std</th>\n",
       "      <td>4.040665</td>\n",
       "      <td>3230.580841</td>\n",
       "    </tr>\n",
       "    <tr>\n",
       "      <th>min</th>\n",
       "      <td>2005.000000</td>\n",
       "      <td>4.000000</td>\n",
       "    </tr>\n",
       "    <tr>\n",
       "      <th>25%</th>\n",
       "      <td>2008.000000</td>\n",
       "      <td>491.000000</td>\n",
       "    </tr>\n",
       "    <tr>\n",
       "      <th>50%</th>\n",
       "      <td>2012.000000</td>\n",
       "      <td>1511.000000</td>\n",
       "    </tr>\n",
       "    <tr>\n",
       "      <th>75%</th>\n",
       "      <td>2015.000000</td>\n",
       "      <td>4159.000000</td>\n",
       "    </tr>\n",
       "    <tr>\n",
       "      <th>max</th>\n",
       "      <td>2018.000000</td>\n",
       "      <td>12400.000000</td>\n",
       "    </tr>\n",
       "  </tbody>\n",
       "</table>\n",
       "</div>"
      ],
      "text/plain": [
       "              Year         Total\n",
       "count   393.000000    393.000000\n",
       "mean   2011.513995   2979.145038\n",
       "std       4.040665   3230.580841\n",
       "min    2005.000000      4.000000\n",
       "25%    2008.000000    491.000000\n",
       "50%    2012.000000   1511.000000\n",
       "75%    2015.000000   4159.000000\n",
       "max    2018.000000  12400.000000"
      ]
     },
     "execution_count": 9,
     "metadata": {},
     "output_type": "execute_result"
    }
   ],
   "source": [
    "#data description\n",
    "data.describe()"
   ]
  },
  {
   "cell_type": "code",
   "execution_count": 10,
   "metadata": {},
   "outputs": [],
   "source": [
    "## Check for missing values"
   ]
  },
  {
   "cell_type": "code",
   "execution_count": 11,
   "metadata": {},
   "outputs": [
    {
     "data": {
      "text/plain": [
       "Year                          0\n",
       "Emirate En                    0\n",
       "Emirate Ar                    0\n",
       "Geo Coordination              0\n",
       "Nationality Group En          0\n",
       "Nationality Group Ar          0\n",
       "Mother's Marital Status En    0\n",
       "Mother's Marital Status Ar    0\n",
       "Gender En                     0\n",
       "Gender Ar                     0\n",
       "Total                         0\n",
       "dtype: int64"
      ]
     },
     "execution_count": 11,
     "metadata": {},
     "output_type": "execute_result"
    }
   ],
   "source": [
    "data.isnull().sum()"
   ]
  },
  {
   "cell_type": "code",
   "execution_count": null,
   "metadata": {},
   "outputs": [],
   "source": []
  },
  {
   "cell_type": "markdown",
   "metadata": {},
   "source": [
    "# EXPLORATORY DATA ANALYSIS"
   ]
  },
  {
   "cell_type": "markdown",
   "metadata": {},
   "source": [
    "The process of gaining a better understanding of data sets by summarizing and visualizing their key characteristics is known as exploratory data analysis (EDA). This is an important stage, especially when it comes to modeling the data in order to apply Machine Learning. EDA includes histograms, box plots, scatter plots, and other plotting options. It will take a long time to explore the data. It is a method for describing the problem statement or meaning on our data set using the EDA process, which is critical."
   ]
  },
  {
   "cell_type": "markdown",
   "metadata": {},
   "source": []
  },
  {
   "cell_type": "markdown",
   "metadata": {},
   "source": [
    " ##  What is the correlation of the variables in the dataset?"
   ]
  },
  {
   "cell_type": "code",
   "execution_count": 12,
   "metadata": {},
   "outputs": [
    {
     "data": {
      "text/html": [
       "<div>\n",
       "<style scoped>\n",
       "    .dataframe tbody tr th:only-of-type {\n",
       "        vertical-align: middle;\n",
       "    }\n",
       "\n",
       "    .dataframe tbody tr th {\n",
       "        vertical-align: top;\n",
       "    }\n",
       "\n",
       "    .dataframe thead th {\n",
       "        text-align: right;\n",
       "    }\n",
       "</style>\n",
       "<table border=\"1\" class=\"dataframe\">\n",
       "  <thead>\n",
       "    <tr style=\"text-align: right;\">\n",
       "      <th></th>\n",
       "      <th>Year</th>\n",
       "      <th>Total</th>\n",
       "    </tr>\n",
       "  </thead>\n",
       "  <tbody>\n",
       "    <tr>\n",
       "      <th>Year</th>\n",
       "      <td>1.000000</td>\n",
       "      <td>0.133866</td>\n",
       "    </tr>\n",
       "    <tr>\n",
       "      <th>Total</th>\n",
       "      <td>0.133866</td>\n",
       "      <td>1.000000</td>\n",
       "    </tr>\n",
       "  </tbody>\n",
       "</table>\n",
       "</div>"
      ],
      "text/plain": [
       "           Year     Total\n",
       "Year   1.000000  0.133866\n",
       "Total  0.133866  1.000000"
      ]
     },
     "execution_count": 12,
     "metadata": {},
     "output_type": "execute_result"
    }
   ],
   "source": [
    "data.corr()"
   ]
  },
  {
   "cell_type": "code",
   "execution_count": null,
   "metadata": {},
   "outputs": [],
   "source": []
  },
  {
   "cell_type": "code",
   "execution_count": 13,
   "metadata": {},
   "outputs": [
    {
     "data": {
      "image/png": "[encoded data removed]",
      "text/plain": [
       "<Figure size 720x432 with 1 Axes>"
      ]
     },
     "metadata": {
      "needs_background": "light"
     },
     "output_type": "display_data"
    }
   ],
   "source": [
    "plt.figure(figsize=(10,6))\n",
    "plt.title(\"Year Frequency\")\n",
    "sns.axes_style(\"dark\")\n",
    "sns.violinplot(y=data[\"Year\"])\n",
    "plt.show()"
   ]
  },
  {
   "cell_type": "markdown",
   "metadata": {},
   "source": [
    "Finding duplicates"
   ]
  },
  {
   "cell_type": "code",
   "execution_count": 14,
   "metadata": {},
   "outputs": [
    {
     "data": {
      "text/plain": [
       "0      False\n",
       "1      False\n",
       "2      False\n",
       "3      False\n",
       "4      False\n",
       "       ...  \n",
       "388    False\n",
       "389    False\n",
       "390    False\n",
       "391    False\n",
       "392    False\n",
       "Length: 393, dtype: bool"
      ]
     },
     "execution_count": 14,
     "metadata": {},
     "output_type": "execute_result"
    }
   ],
   "source": [
    "duplicate = data.duplicated()\n",
    "duplicate"
   ]
  },
  {
   "cell_type": "code",
   "execution_count": 15,
   "metadata": {},
   "outputs": [
    {
     "data": {
      "text/plain": [
       "Index(['Year', 'Emirate En', 'Emirate Ar', 'Geo Coordination',\n",
       "       'Nationality Group En', 'Nationality Group Ar',\n",
       "       'Mother's Marital Status En', 'Mother's Marital Status Ar', 'Gender En',\n",
       "       'Gender Ar', 'Total'],\n",
       "      dtype='object')"
      ]
     },
     "execution_count": 15,
     "metadata": {},
     "output_type": "execute_result"
    }
   ],
   "source": [
    "data.keys()"
   ]
  },
  {
   "cell_type": "code",
   "execution_count": 16,
   "metadata": {},
   "outputs": [],
   "source": [
    "# dropping columns in Arabic\n",
    "data = data.drop(['Emirate Ar','Nationality Group Ar',\"Mother's Marital Status Ar\",'Gender Ar'],axis=1)"
   ]
  },
  {
   "cell_type": "code",
   "execution_count": 17,
   "metadata": {},
   "outputs": [
    {
     "data": {
      "text/html": [
       "<div>\n",
       "<style scoped>\n",
       "    .dataframe tbody tr th:only-of-type {\n",
       "        vertical-align: middle;\n",
       "    }\n",
       "\n",
       "    .dataframe tbody tr th {\n",
       "        vertical-align: top;\n",
       "    }\n",
       "\n",
       "    .dataframe thead th {\n",
       "        text-align: right;\n",
       "    }\n",
       "</style>\n",
       "<table border=\"1\" class=\"dataframe\">\n",
       "  <thead>\n",
       "    <tr style=\"text-align: right;\">\n",
       "      <th></th>\n",
       "      <th>Year</th>\n",
       "      <th>Emirate En</th>\n",
       "      <th>Geo Coordination</th>\n",
       "      <th>Nationality Group En</th>\n",
       "      <th>Mother's Marital Status En</th>\n",
       "      <th>Gender En</th>\n",
       "      <th>Total</th>\n",
       "    </tr>\n",
       "  </thead>\n",
       "  <tbody>\n",
       "    <tr>\n",
       "      <th>0</th>\n",
       "      <td>2005</td>\n",
       "      <td>Abu Dhabi</td>\n",
       "      <td>24.4539° N, 54.3773° E</td>\n",
       "      <td>Citizen</td>\n",
       "      <td>Married</td>\n",
       "      <td>Male</td>\n",
       "      <td>6304</td>\n",
       "    </tr>\n",
       "    <tr>\n",
       "      <th>1</th>\n",
       "      <td>2005</td>\n",
       "      <td>Abu Dhabi</td>\n",
       "      <td>24.4539° N, 54.3773° E</td>\n",
       "      <td>Citizen</td>\n",
       "      <td>Married</td>\n",
       "      <td>Female</td>\n",
       "      <td>5993</td>\n",
       "    </tr>\n",
       "    <tr>\n",
       "      <th>2</th>\n",
       "      <td>2005</td>\n",
       "      <td>Abu Dhabi</td>\n",
       "      <td>24.4539° N, 54.3773° E</td>\n",
       "      <td>Expat</td>\n",
       "      <td>Married</td>\n",
       "      <td>Male</td>\n",
       "      <td>7667</td>\n",
       "    </tr>\n",
       "    <tr>\n",
       "      <th>3</th>\n",
       "      <td>2005</td>\n",
       "      <td>Abu Dhabi</td>\n",
       "      <td>24.4539° N, 54.3773° E</td>\n",
       "      <td>Expat</td>\n",
       "      <td>Married</td>\n",
       "      <td>Female</td>\n",
       "      <td>7149</td>\n",
       "    </tr>\n",
       "    <tr>\n",
       "      <th>4</th>\n",
       "      <td>2005</td>\n",
       "      <td>Dubai</td>\n",
       "      <td>25.2048° N, 55.2708° E</td>\n",
       "      <td>Citizen</td>\n",
       "      <td>Married</td>\n",
       "      <td>Male</td>\n",
       "      <td>3706</td>\n",
       "    </tr>\n",
       "  </tbody>\n",
       "</table>\n",
       "</div>"
      ],
      "text/plain": [
       "   Year  Emirate En        Geo Coordination Nationality Group En  \\\n",
       "0  2005   Abu Dhabi  24.4539° N, 54.3773° E              Citizen   \n",
       "1  2005   Abu Dhabi  24.4539° N, 54.3773° E              Citizen   \n",
       "2  2005   Abu Dhabi  24.4539° N, 54.3773° E                Expat   \n",
       "3  2005   Abu Dhabi  24.4539° N, 54.3773° E                Expat   \n",
       "4  2005       Dubai  25.2048° N, 55.2708° E              Citizen   \n",
       "\n",
       "  Mother's Marital Status En Gender En  Total  \n",
       "0                    Married      Male   6304  \n",
       "1                    Married    Female   5993  \n",
       "2                    Married      Male   7667  \n",
       "3                    Married    Female   7149  \n",
       "4                    Married      Male   3706  "
      ]
     },
     "execution_count": 17,
     "metadata": {},
     "output_type": "execute_result"
    }
   ],
   "source": [
    "data.head()"
   ]
  },
  {
   "cell_type": "markdown",
   "metadata": {},
   "source": [
    "# Q1. What is the live birth ratio in terms of Gender?\n"
   ]
  },
  {
   "cell_type": "code",
   "execution_count": null,
   "metadata": {},
   "outputs": [],
   "source": []
  },
  {
   "cell_type": "code",
   "execution_count": 18,
   "metadata": {},
   "outputs": [
    {
     "data": {
      "text/plain": [
       "Male       196\n",
       "Female     196\n",
       "Unknown      1\n",
       "Name: Gender En, dtype: int64"
      ]
     },
     "execution_count": 18,
     "metadata": {},
     "output_type": "execute_result"
    }
   ],
   "source": [
    "# Gender count\n",
    "data['Gender En'].value_counts()"
   ]
  },
  {
   "cell_type": "code",
   "execution_count": 19,
   "metadata": {},
   "outputs": [
    {
     "data": {
      "image/png": "[encoded data removed]",
      "text/plain": [
       "<Figure size 720x432 with 1 Axes>"
      ]
     },
     "metadata": {
      "needs_background": "light"
     },
     "output_type": "display_data"
    }
   ],
   "source": [
    "# Plotting a Barplot plot\n",
    "fig, ax = plt.subplots(figsize=(10,6))\n",
    "sns.barplot(x = data[\"Gender En\"], y=data[\"Total\"])\n",
    "ax.set_title(\"Live Birth Ratio by Gender\")\n",
    "ax.set_xlabel(\"Gender Distribution\")\n",
    "ax.set_ylabel(\"Total Live Birth\")\n",
    "plt.show()"
   ]
  },
  {
   "cell_type": "markdown",
   "metadata": {},
   "source": [
    "•\tWhat is the Live birth ratio in terms of Gender?\n",
    "•\tHow many live births were citizens? And how many were expats?\n",
    "•\tWhat is the Live birth distribution across the Emirates?\n",
    "•\tWhat is the percentage distribution of live births from 2005 to 2018?\n",
    "•\tWere the mother’s married?\n"
   ]
  },
  {
   "cell_type": "markdown",
   "metadata": {},
   "source": [
    "# GROUPING DATA BY NATIONALITY USING GROUPBY"
   ]
  },
  {
   "cell_type": "code",
   "execution_count": 21,
   "metadata": {},
   "outputs": [],
   "source": [
    "data_1 = data.groupby('Nationality Group En')"
   ]
  },
  {
   "cell_type": "code",
   "execution_count": 22,
   "metadata": {},
   "outputs": [
    {
     "data": {
      "text/html": [
       "<div>\n",
       "<style scoped>\n",
       "    .dataframe tbody tr th:only-of-type {\n",
       "        vertical-align: middle;\n",
       "    }\n",
       "\n",
       "    .dataframe tbody tr th {\n",
       "        vertical-align: top;\n",
       "    }\n",
       "\n",
       "    .dataframe thead th {\n",
       "        text-align: right;\n",
       "    }\n",
       "</style>\n",
       "<table border=\"1\" class=\"dataframe\">\n",
       "  <thead>\n",
       "    <tr style=\"text-align: right;\">\n",
       "      <th></th>\n",
       "      <th>Year</th>\n",
       "      <th>Emirate En</th>\n",
       "      <th>Geo Coordination</th>\n",
       "      <th>Nationality Group En</th>\n",
       "      <th>Mother's Marital Status En</th>\n",
       "      <th>Gender En</th>\n",
       "      <th>Total</th>\n",
       "    </tr>\n",
       "  </thead>\n",
       "  <tbody>\n",
       "    <tr>\n",
       "      <th>0</th>\n",
       "      <td>2005</td>\n",
       "      <td>Abu Dhabi</td>\n",
       "      <td>24.4539° N, 54.3773° E</td>\n",
       "      <td>Citizen</td>\n",
       "      <td>Married</td>\n",
       "      <td>Male</td>\n",
       "      <td>6304</td>\n",
       "    </tr>\n",
       "    <tr>\n",
       "      <th>1</th>\n",
       "      <td>2005</td>\n",
       "      <td>Abu Dhabi</td>\n",
       "      <td>24.4539° N, 54.3773° E</td>\n",
       "      <td>Citizen</td>\n",
       "      <td>Married</td>\n",
       "      <td>Female</td>\n",
       "      <td>5993</td>\n",
       "    </tr>\n",
       "    <tr>\n",
       "      <th>4</th>\n",
       "      <td>2005</td>\n",
       "      <td>Dubai</td>\n",
       "      <td>25.2048° N, 55.2708° E</td>\n",
       "      <td>Citizen</td>\n",
       "      <td>Married</td>\n",
       "      <td>Male</td>\n",
       "      <td>3706</td>\n",
       "    </tr>\n",
       "    <tr>\n",
       "      <th>5</th>\n",
       "      <td>2005</td>\n",
       "      <td>Dubai</td>\n",
       "      <td>25.2048° N, 55.2708° E</td>\n",
       "      <td>Citizen</td>\n",
       "      <td>Married</td>\n",
       "      <td>Female</td>\n",
       "      <td>3480</td>\n",
       "    </tr>\n",
       "    <tr>\n",
       "      <th>8</th>\n",
       "      <td>2005</td>\n",
       "      <td>Sharjah</td>\n",
       "      <td>25.0754° N, 55.7578° E</td>\n",
       "      <td>Citizen</td>\n",
       "      <td>Married</td>\n",
       "      <td>Male</td>\n",
       "      <td>1759</td>\n",
       "    </tr>\n",
       "  </tbody>\n",
       "</table>\n",
       "</div>"
      ],
      "text/plain": [
       "   Year  Emirate En        Geo Coordination Nationality Group En  \\\n",
       "0  2005   Abu Dhabi  24.4539° N, 54.3773° E              Citizen   \n",
       "1  2005   Abu Dhabi  24.4539° N, 54.3773° E              Citizen   \n",
       "4  2005       Dubai  25.2048° N, 55.2708° E              Citizen   \n",
       "5  2005       Dubai  25.2048° N, 55.2708° E              Citizen   \n",
       "8  2005     Sharjah  25.0754° N, 55.7578° E              Citizen   \n",
       "\n",
       "  Mother's Marital Status En Gender En  Total  \n",
       "0                    Married      Male   6304  \n",
       "1                    Married    Female   5993  \n",
       "4                    Married      Male   3706  \n",
       "5                    Married    Female   3480  \n",
       "8                    Married      Male   1759  "
      ]
     },
     "execution_count": 22,
     "metadata": {},
     "output_type": "execute_result"
    }
   ],
   "source": [
    "citizens = data_1.get_group('Citizen')\n",
    "citizens.head()"
   ]
  },
  {
   "cell_type": "code",
   "execution_count": 23,
   "metadata": {},
   "outputs": [
    {
     "data": {
      "text/html": [
       "<div>\n",
       "<style scoped>\n",
       "    .dataframe tbody tr th:only-of-type {\n",
       "        vertical-align: middle;\n",
       "    }\n",
       "\n",
       "    .dataframe tbody tr th {\n",
       "        vertical-align: top;\n",
       "    }\n",
       "\n",
       "    .dataframe thead th {\n",
       "        text-align: right;\n",
       "    }\n",
       "</style>\n",
       "<table border=\"1\" class=\"dataframe\">\n",
       "  <thead>\n",
       "    <tr style=\"text-align: right;\">\n",
       "      <th></th>\n",
       "      <th>Year</th>\n",
       "      <th>Emirate En</th>\n",
       "      <th>Geo Coordination</th>\n",
       "      <th>Nationality Group En</th>\n",
       "      <th>Mother's Marital Status En</th>\n",
       "      <th>Gender En</th>\n",
       "      <th>Total</th>\n",
       "    </tr>\n",
       "  </thead>\n",
       "  <tbody>\n",
       "    <tr>\n",
       "      <th>2</th>\n",
       "      <td>2005</td>\n",
       "      <td>Abu Dhabi</td>\n",
       "      <td>24.4539° N, 54.3773° E</td>\n",
       "      <td>Expat</td>\n",
       "      <td>Married</td>\n",
       "      <td>Male</td>\n",
       "      <td>7667</td>\n",
       "    </tr>\n",
       "    <tr>\n",
       "      <th>3</th>\n",
       "      <td>2005</td>\n",
       "      <td>Abu Dhabi</td>\n",
       "      <td>24.4539° N, 54.3773° E</td>\n",
       "      <td>Expat</td>\n",
       "      <td>Married</td>\n",
       "      <td>Female</td>\n",
       "      <td>7149</td>\n",
       "    </tr>\n",
       "    <tr>\n",
       "      <th>6</th>\n",
       "      <td>2005</td>\n",
       "      <td>Dubai</td>\n",
       "      <td>25.2048° N, 55.2708° E</td>\n",
       "      <td>Expat</td>\n",
       "      <td>Married</td>\n",
       "      <td>Male</td>\n",
       "      <td>5726</td>\n",
       "    </tr>\n",
       "    <tr>\n",
       "      <th>7</th>\n",
       "      <td>2005</td>\n",
       "      <td>Dubai</td>\n",
       "      <td>25.2048° N, 55.2708° E</td>\n",
       "      <td>Expat</td>\n",
       "      <td>Married</td>\n",
       "      <td>Female</td>\n",
       "      <td>5341</td>\n",
       "    </tr>\n",
       "    <tr>\n",
       "      <th>10</th>\n",
       "      <td>2005</td>\n",
       "      <td>Sharjah</td>\n",
       "      <td>25.0754° N, 55.7578° E</td>\n",
       "      <td>Expat</td>\n",
       "      <td>Married</td>\n",
       "      <td>Male</td>\n",
       "      <td>2869</td>\n",
       "    </tr>\n",
       "  </tbody>\n",
       "</table>\n",
       "</div>"
      ],
      "text/plain": [
       "    Year  Emirate En        Geo Coordination Nationality Group En  \\\n",
       "2   2005   Abu Dhabi  24.4539° N, 54.3773° E                Expat   \n",
       "3   2005   Abu Dhabi  24.4539° N, 54.3773° E                Expat   \n",
       "6   2005       Dubai  25.2048° N, 55.2708° E                Expat   \n",
       "7   2005       Dubai  25.2048° N, 55.2708° E                Expat   \n",
       "10  2005     Sharjah  25.0754° N, 55.7578° E                Expat   \n",
       "\n",
       "   Mother's Marital Status En Gender En  Total  \n",
       "2                     Married      Male   7667  \n",
       "3                     Married    Female   7149  \n",
       "6                     Married      Male   5726  \n",
       "7                     Married    Female   5341  \n",
       "10                    Married      Male   2869  "
      ]
     },
     "execution_count": 23,
     "metadata": {},
     "output_type": "execute_result"
    }
   ],
   "source": [
    "expats = data_1.get_group('Expat')\n",
    "expats.head()"
   ]
  },
  {
   "cell_type": "markdown",
   "metadata": {},
   "source": [
    "# How many Live Births were citizens by Gender? and how many were expaps?"
   ]
  },
  {
   "cell_type": "markdown",
   "metadata": {},
   "source": []
  },
  {
   "cell_type": "code",
   "execution_count": 24,
   "metadata": {},
   "outputs": [
    {
     "data": {
      "text/plain": [
       "Text(0.5, 1.0, 'Live Birth for EXPATS  UAE')"
      ]
     },
     "execution_count": 24,
     "metadata": {},
     "output_type": "execute_result"
    },
    {
     "data": {
      "image/png": "[encoded data removed]",
      "text/plain": [
       "<Figure size 720x432 with 1 Axes>"
      ]
     },
     "metadata": {
      "needs_background": "light"
     },
     "output_type": "display_data"
    }
   ],
   "source": [
    "# Plotting a Barplot plot for expats\n",
    "fig, ax = plt.subplots(figsize=(10,6))\n",
    "sns.barplot(x = expats[\"Gender En\"], y=expats[\"Total\"])\n",
    "ax.set_xlabel(\"Gender\")\n",
    "ax.set_ylabel(\"Total Live Births\")\n",
    "ax.set_title(\"Live Birth for EXPATS  UAE\")"
   ]
  },
  {
   "cell_type": "code",
   "execution_count": 25,
   "metadata": {},
   "outputs": [
    {
     "data": {
      "text/plain": [
       "Male      98\n",
       "Female    98\n",
       "Name: Gender En, dtype: int64"
      ]
     },
     "execution_count": 25,
     "metadata": {},
     "output_type": "execute_result"
    }
   ],
   "source": [
    "# Gender count\n",
    "expats['Gender En'].value_counts()"
   ]
  },
  {
   "cell_type": "code",
   "execution_count": 26,
   "metadata": {},
   "outputs": [
    {
     "data": {
      "image/png": "[encoded data removed]",
      "text/plain": [
       "<Figure size 720x432 with 1 Axes>"
      ]
     },
     "metadata": {
      "needs_background": "light"
     },
     "output_type": "display_data"
    }
   ],
   "source": [
    "fig, ax = plt.subplots(figsize=(10,6))\n",
    "sns.barplot(x = citizens[\"Gender En\"], y=citizens[\"Total\"])\n",
    "ax.set_xlabel(\"Gender\")\n",
    "ax.set_ylabel(\"Total\")\n",
    "ax.set_title('CITIZENS')\n",
    "plt.show()"
   ]
  },
  {
   "cell_type": "code",
   "execution_count": 27,
   "metadata": {},
   "outputs": [
    {
     "data": {
      "text/plain": [
       "Male       98\n",
       "Female     98\n",
       "Unknown     1\n",
       "Name: Gender En, dtype: int64"
      ]
     },
     "execution_count": 27,
     "metadata": {},
     "output_type": "execute_result"
    }
   ],
   "source": [
    "# Gender count\n",
    "citizens['Gender En'].value_counts()"
   ]
  },
  {
   "cell_type": "markdown",
   "metadata": {},
   "source": [
    "# Q3: What is the live Birth distribution across Emirate?"
   ]
  },
  {
   "cell_type": "code",
   "execution_count": null,
   "metadata": {},
   "outputs": [],
   "source": []
  },
  {
   "cell_type": "code",
   "execution_count": 28,
   "metadata": {},
   "outputs": [],
   "source": [
    "state = data.filter(items=['Emirate En','Gender En', 'Total'])"
   ]
  },
  {
   "cell_type": "code",
   "execution_count": 29,
   "metadata": {},
   "outputs": [
    {
     "data": {
      "text/html": [
       "<div>\n",
       "<style scoped>\n",
       "    .dataframe tbody tr th:only-of-type {\n",
       "        vertical-align: middle;\n",
       "    }\n",
       "\n",
       "    .dataframe tbody tr th {\n",
       "        vertical-align: top;\n",
       "    }\n",
       "\n",
       "    .dataframe thead th {\n",
       "        text-align: right;\n",
       "    }\n",
       "</style>\n",
       "<table border=\"1\" class=\"dataframe\">\n",
       "  <thead>\n",
       "    <tr style=\"text-align: right;\">\n",
       "      <th></th>\n",
       "      <th>Emirate En</th>\n",
       "      <th>Gender En</th>\n",
       "      <th>Total</th>\n",
       "    </tr>\n",
       "  </thead>\n",
       "  <tbody>\n",
       "    <tr>\n",
       "      <th>0</th>\n",
       "      <td>Abu Dhabi</td>\n",
       "      <td>Male</td>\n",
       "      <td>6304</td>\n",
       "    </tr>\n",
       "    <tr>\n",
       "      <th>1</th>\n",
       "      <td>Abu Dhabi</td>\n",
       "      <td>Female</td>\n",
       "      <td>5993</td>\n",
       "    </tr>\n",
       "    <tr>\n",
       "      <th>2</th>\n",
       "      <td>Abu Dhabi</td>\n",
       "      <td>Male</td>\n",
       "      <td>7667</td>\n",
       "    </tr>\n",
       "    <tr>\n",
       "      <th>3</th>\n",
       "      <td>Abu Dhabi</td>\n",
       "      <td>Female</td>\n",
       "      <td>7149</td>\n",
       "    </tr>\n",
       "    <tr>\n",
       "      <th>4</th>\n",
       "      <td>Dubai</td>\n",
       "      <td>Male</td>\n",
       "      <td>3706</td>\n",
       "    </tr>\n",
       "  </tbody>\n",
       "</table>\n",
       "</div>"
      ],
      "text/plain": [
       "   Emirate En Gender En  Total\n",
       "0   Abu Dhabi      Male   6304\n",
       "1   Abu Dhabi    Female   5993\n",
       "2   Abu Dhabi      Male   7667\n",
       "3   Abu Dhabi    Female   7149\n",
       "4       Dubai      Male   3706"
      ]
     },
     "execution_count": 29,
     "metadata": {},
     "output_type": "execute_result"
    }
   ],
   "source": [
    "state.head()"
   ]
  },
  {
   "cell_type": "code",
   "execution_count": 30,
   "metadata": {},
   "outputs": [],
   "source": [
    "filt_state = state.groupby(['Emirate En']).sum().sort_values('Total')"
   ]
  },
  {
   "cell_type": "code",
   "execution_count": 31,
   "metadata": {},
   "outputs": [
    {
     "data": {
      "text/html": [
       "<div>\n",
       "<style scoped>\n",
       "    .dataframe tbody tr th:only-of-type {\n",
       "        vertical-align: middle;\n",
       "    }\n",
       "\n",
       "    .dataframe tbody tr th {\n",
       "        vertical-align: top;\n",
       "    }\n",
       "\n",
       "    .dataframe thead th {\n",
       "        text-align: right;\n",
       "    }\n",
       "</style>\n",
       "<table border=\"1\" class=\"dataframe\">\n",
       "  <thead>\n",
       "    <tr style=\"text-align: right;\">\n",
       "      <th></th>\n",
       "      <th>Total</th>\n",
       "    </tr>\n",
       "    <tr>\n",
       "      <th>Emirate En</th>\n",
       "      <th></th>\n",
       "    </tr>\n",
       "  </thead>\n",
       "  <tbody>\n",
       "    <tr>\n",
       "      <th>Umm  Al Quwain</th>\n",
       "      <td>12484</td>\n",
       "    </tr>\n",
       "    <tr>\n",
       "      <th>Fujairah</th>\n",
       "      <td>47433</td>\n",
       "    </tr>\n",
       "    <tr>\n",
       "      <th>Ras Al Khaima</th>\n",
       "      <td>53855</td>\n",
       "    </tr>\n",
       "    <tr>\n",
       "      <th>Ajman</th>\n",
       "      <td>86005</td>\n",
       "    </tr>\n",
       "    <tr>\n",
       "      <th>Sharjah</th>\n",
       "      <td>147978</td>\n",
       "    </tr>\n",
       "    <tr>\n",
       "      <th>Dubai</th>\n",
       "      <td>359515</td>\n",
       "    </tr>\n",
       "    <tr>\n",
       "      <th>Abu Dhabi</th>\n",
       "      <td>463534</td>\n",
       "    </tr>\n",
       "  </tbody>\n",
       "</table>\n",
       "</div>"
      ],
      "text/plain": [
       "                  Total\n",
       "Emirate En             \n",
       " Umm  Al Quwain   12484\n",
       "Fujairah          47433\n",
       " Ras Al Khaima    53855\n",
       " Ajman            86005\n",
       " Sharjah         147978\n",
       " Dubai           359515\n",
       " Abu Dhabi       463534"
      ]
     },
     "execution_count": 31,
     "metadata": {},
     "output_type": "execute_result"
    }
   ],
   "source": [
    "filt_state"
   ]
  },
  {
   "cell_type": "code",
   "execution_count": 32,
   "metadata": {},
   "outputs": [
    {
     "data": {
      "image/png": "[encoded data removed]",
      "text/plain": [
       "<Figure size 720x432 with 1 Axes>"
      ]
     },
     "metadata": {
      "needs_background": "light"
     },
     "output_type": "display_data"
    }
   ],
   "source": [
    "fig, ax = plt.subplots(figsize=(10,6))\n",
    "sns.barplot(x = state[\"Emirate En\"], y=state[\"Total\"])\n",
    "ax.set_xlabel(\"EMIRATE\")\n",
    "ax.set_ylabel(\"Total Live  Birth\")\n",
    "ax.set_title('TOTAL LIVE  BIRTH IN EACH EMIRATE ')\n",
    "plt.show()"
   ]
  },
  {
   "cell_type": "markdown",
   "metadata": {},
   "source": [
    "Abu Dhabi has higher recorded live  births   as compared to other Emirates"
   ]
  },
  {
   "cell_type": "code",
   "execution_count": null,
   "metadata": {},
   "outputs": [],
   "source": []
  },
  {
   "cell_type": "markdown",
   "metadata": {},
   "source": [
    "# •\tWhat is the percentage distribution of live births from 2006 to 2018?"
   ]
  },
  {
   "cell_type": "code",
   "execution_count": 33,
   "metadata": {},
   "outputs": [],
   "source": [
    "year_birth = data.filter(['Year','Gender En','Total'])\n",
    "year_total = data.groupby(['Year']).sum()"
   ]
  },
  {
   "cell_type": "code",
   "execution_count": 34,
   "metadata": {},
   "outputs": [
    {
     "data": {
      "text/html": [
       "<div>\n",
       "<style scoped>\n",
       "    .dataframe tbody tr th:only-of-type {\n",
       "        vertical-align: middle;\n",
       "    }\n",
       "\n",
       "    .dataframe tbody tr th {\n",
       "        vertical-align: top;\n",
       "    }\n",
       "\n",
       "    .dataframe thead th {\n",
       "        text-align: right;\n",
       "    }\n",
       "</style>\n",
       "<table border=\"1\" class=\"dataframe\">\n",
       "  <thead>\n",
       "    <tr style=\"text-align: right;\">\n",
       "      <th></th>\n",
       "      <th>Total</th>\n",
       "    </tr>\n",
       "    <tr>\n",
       "      <th>Year</th>\n",
       "      <th></th>\n",
       "    </tr>\n",
       "  </thead>\n",
       "  <tbody>\n",
       "    <tr>\n",
       "      <th>2006</th>\n",
       "      <td>62960</td>\n",
       "    </tr>\n",
       "    <tr>\n",
       "      <th>2005</th>\n",
       "      <td>64623</td>\n",
       "    </tr>\n",
       "    <tr>\n",
       "      <th>2007</th>\n",
       "      <td>67667</td>\n",
       "    </tr>\n",
       "    <tr>\n",
       "      <th>2008</th>\n",
       "      <td>68767</td>\n",
       "    </tr>\n",
       "    <tr>\n",
       "      <th>2009</th>\n",
       "      <td>76357</td>\n",
       "    </tr>\n",
       "    <tr>\n",
       "      <th>2010</th>\n",
       "      <td>79627</td>\n",
       "    </tr>\n",
       "    <tr>\n",
       "      <th>2011</th>\n",
       "      <td>83152</td>\n",
       "    </tr>\n",
       "    <tr>\n",
       "      <th>2012</th>\n",
       "      <td>89578</td>\n",
       "    </tr>\n",
       "    <tr>\n",
       "      <th>2013</th>\n",
       "      <td>93539</td>\n",
       "    </tr>\n",
       "    <tr>\n",
       "      <th>2018</th>\n",
       "      <td>95309</td>\n",
       "    </tr>\n",
       "    <tr>\n",
       "      <th>2014</th>\n",
       "      <td>95860</td>\n",
       "    </tr>\n",
       "    <tr>\n",
       "      <th>2015</th>\n",
       "      <td>97328</td>\n",
       "    </tr>\n",
       "    <tr>\n",
       "      <th>2017</th>\n",
       "      <td>97738</td>\n",
       "    </tr>\n",
       "    <tr>\n",
       "      <th>2016</th>\n",
       "      <td>98299</td>\n",
       "    </tr>\n",
       "  </tbody>\n",
       "</table>\n",
       "</div>"
      ],
      "text/plain": [
       "      Total\n",
       "Year       \n",
       "2006  62960\n",
       "2005  64623\n",
       "2007  67667\n",
       "2008  68767\n",
       "2009  76357\n",
       "2010  79627\n",
       "2011  83152\n",
       "2012  89578\n",
       "2013  93539\n",
       "2018  95309\n",
       "2014  95860\n",
       "2015  97328\n",
       "2017  97738\n",
       "2016  98299"
      ]
     },
     "execution_count": 34,
     "metadata": {},
     "output_type": "execute_result"
    }
   ],
   "source": [
    "year_total.sort_values(by=['Total'])"
   ]
  },
  {
   "cell_type": "code",
   "execution_count": 35,
   "metadata": {},
   "outputs": [
    {
     "data": {
      "image/png": "[encoded data removed]",
      "text/plain": [
       "<Figure size 1080x432 with 1 Axes>"
      ]
     },
     "metadata": {},
     "output_type": "display_data"
    }
   ],
   "source": [
    "plt.figure(figsize=(15,6))\n",
    "plt.pie(x=year_total[\"Total\"], labels=year_total.index,\n",
    "autopct='%1.1f%%')\n",
    "plt.title(\"Birth Percentage For each Year\")\n",
    "plt.show()"
   ]
  },
  {
   "cell_type": "code",
   "execution_count": null,
   "metadata": {},
   "outputs": [],
   "source": []
  },
  {
   "cell_type": "markdown",
   "metadata": {},
   "source": [
    "The birth rate has been increasing over the years, from 5.5% in 2005 and to 8.1% in 2018"
   ]
  },
  {
   "cell_type": "code",
   "execution_count": 36,
   "metadata": {},
   "outputs": [
    {
     "data": {
      "image/png": "[encoded data removed]",
      "text/plain": [
       "<Figure size 1080x432 with 1 Axes>"
      ]
     },
     "metadata": {
      "needs_background": "light"
     },
     "output_type": "display_data"
    }
   ],
   "source": [
    "plt.figure(figsize=(15,6))\n",
    "plt.plot(year_total.index,year_total[\"Total\"])\n",
    "plt.title(\"Birth Rate For each Year\")\n",
    "plt.xlabel('Year')\n",
    "plt.ylabel('Live Bith')\n",
    "plt.show()"
   ]
  },
  {
   "cell_type": "markdown",
   "metadata": {},
   "source": [
    "# Q6. How many newborns were born to married mothers?"
   ]
  },
  {
   "cell_type": "code",
   "execution_count": 37,
   "metadata": {},
   "outputs": [],
   "source": [
    "parent = data.filter([\"Mother's Marital Status En\",'Gender En','Total'])\n",
    "married_parent = data.groupby([\"Mother's Marital Status En\"]).sum()"
   ]
  },
  {
   "cell_type": "code",
   "execution_count": 38,
   "metadata": {},
   "outputs": [
    {
     "data": {
      "text/html": [
       "<div>\n",
       "<style scoped>\n",
       "    .dataframe tbody tr th:only-of-type {\n",
       "        vertical-align: middle;\n",
       "    }\n",
       "\n",
       "    .dataframe tbody tr th {\n",
       "        vertical-align: top;\n",
       "    }\n",
       "\n",
       "    .dataframe thead th {\n",
       "        text-align: right;\n",
       "    }\n",
       "</style>\n",
       "<table border=\"1\" class=\"dataframe\">\n",
       "  <thead>\n",
       "    <tr style=\"text-align: right;\">\n",
       "      <th></th>\n",
       "      <th>Year</th>\n",
       "      <th>Total</th>\n",
       "    </tr>\n",
       "    <tr>\n",
       "      <th>Mother's Marital Status En</th>\n",
       "      <th></th>\n",
       "      <th></th>\n",
       "    </tr>\n",
       "  </thead>\n",
       "  <tbody>\n",
       "    <tr>\n",
       "      <th>Married</th>\n",
       "      <td>790525</td>\n",
       "      <td>1170804</td>\n",
       "    </tr>\n",
       "  </tbody>\n",
       "</table>\n",
       "</div>"
      ],
      "text/plain": [
       "                              Year    Total\n",
       "Mother's Marital Status En                 \n",
       "Married                     790525  1170804"
      ]
     },
     "execution_count": 38,
     "metadata": {},
     "output_type": "execute_result"
    }
   ],
   "source": [
    "married_parent.sort_values(by=['Total'])"
   ]
  },
  {
   "cell_type": "code",
   "execution_count": 39,
   "metadata": {},
   "outputs": [
    {
     "data": {
      "image/png": "[encoded data removed]",
      "text/plain": [
       "<Figure size 1080x432 with 1 Axes>"
      ]
     },
     "metadata": {},
     "output_type": "display_data"
    }
   ],
   "source": [
    "plt.figure(figsize=(15,6))\n",
    "plt.pie(x=married_parent[\"Total\"], labels=married_parent.index,\n",
    "autopct='%1.1f%%')\n",
    "plt.title(\"Birth Percentage For each Year\")\n",
    "plt.show()"
   ]
  },
  {
   "cell_type": "markdown",
   "metadata": {},
   "source": [
    "All the newborns were born to married mothers"
   ]
  },
  {
   "cell_type": "markdown",
   "metadata": {},
   "source": [
    "# Q7. What is the gender distribution in each of the Emirate  according to the birth data?"
   ]
  },
  {
   "cell_type": "code",
   "execution_count": 40,
   "metadata": {},
   "outputs": [],
   "source": [
    "filt_data = data.filter([\"Mother's Marital Status En\",\"Emirate En\",'Gender En','Total'])\n",
    "group_emirate = filt_data.groupby([\"Emirate En\",\"Gender En\"]).sum()\n",
    "group_gender = filt_data.groupby([\"Gender En\"]).sum()\n"
   ]
  },
  {
   "cell_type": "code",
   "execution_count": 41,
   "metadata": {},
   "outputs": [
    {
     "data": {
      "text/html": [
       "<div>\n",
       "<style scoped>\n",
       "    .dataframe tbody tr th:only-of-type {\n",
       "        vertical-align: middle;\n",
       "    }\n",
       "\n",
       "    .dataframe tbody tr th {\n",
       "        vertical-align: top;\n",
       "    }\n",
       "\n",
       "    .dataframe thead th {\n",
       "        text-align: right;\n",
       "    }\n",
       "</style>\n",
       "<table border=\"1\" class=\"dataframe\">\n",
       "  <thead>\n",
       "    <tr style=\"text-align: right;\">\n",
       "      <th></th>\n",
       "      <th></th>\n",
       "      <th>Total</th>\n",
       "    </tr>\n",
       "    <tr>\n",
       "      <th>Emirate En</th>\n",
       "      <th>Gender En</th>\n",
       "      <th></th>\n",
       "    </tr>\n",
       "  </thead>\n",
       "  <tbody>\n",
       "    <tr>\n",
       "      <th>Dubai</th>\n",
       "      <th>Unknown</th>\n",
       "      <td>4</td>\n",
       "    </tr>\n",
       "    <tr>\n",
       "      <th rowspan=\"2\" valign=\"top\">Umm  Al Quwain</th>\n",
       "      <th>Female</th>\n",
       "      <td>6174</td>\n",
       "    </tr>\n",
       "    <tr>\n",
       "      <th>Male</th>\n",
       "      <td>6310</td>\n",
       "    </tr>\n",
       "    <tr>\n",
       "      <th rowspan=\"2\" valign=\"top\">Fujairah</th>\n",
       "      <th>Female</th>\n",
       "      <td>23346</td>\n",
       "    </tr>\n",
       "    <tr>\n",
       "      <th>Male</th>\n",
       "      <td>24087</td>\n",
       "    </tr>\n",
       "    <tr>\n",
       "      <th rowspan=\"2\" valign=\"top\">Ras Al Khaima</th>\n",
       "      <th>Female</th>\n",
       "      <td>26282</td>\n",
       "    </tr>\n",
       "    <tr>\n",
       "      <th>Male</th>\n",
       "      <td>27573</td>\n",
       "    </tr>\n",
       "    <tr>\n",
       "      <th rowspan=\"2\" valign=\"top\">Ajman</th>\n",
       "      <th>Female</th>\n",
       "      <td>41818</td>\n",
       "    </tr>\n",
       "    <tr>\n",
       "      <th>Male</th>\n",
       "      <td>44187</td>\n",
       "    </tr>\n",
       "    <tr>\n",
       "      <th rowspan=\"2\" valign=\"top\">Sharjah</th>\n",
       "      <th>Female</th>\n",
       "      <td>72397</td>\n",
       "    </tr>\n",
       "    <tr>\n",
       "      <th>Male</th>\n",
       "      <td>75581</td>\n",
       "    </tr>\n",
       "    <tr>\n",
       "      <th rowspan=\"2\" valign=\"top\">Dubai</th>\n",
       "      <th>Female</th>\n",
       "      <td>175169</td>\n",
       "    </tr>\n",
       "    <tr>\n",
       "      <th>Male</th>\n",
       "      <td>184342</td>\n",
       "    </tr>\n",
       "    <tr>\n",
       "      <th rowspan=\"2\" valign=\"top\">Abu Dhabi</th>\n",
       "      <th>Female</th>\n",
       "      <td>226515</td>\n",
       "    </tr>\n",
       "    <tr>\n",
       "      <th>Male</th>\n",
       "      <td>237019</td>\n",
       "    </tr>\n",
       "  </tbody>\n",
       "</table>\n",
       "</div>"
      ],
      "text/plain": [
       "                            Total\n",
       "Emirate En      Gender En        \n",
       " Dubai          Unknown         4\n",
       " Umm  Al Quwain Female       6174\n",
       "                Male         6310\n",
       "Fujairah        Female      23346\n",
       "                Male        24087\n",
       " Ras Al Khaima  Female      26282\n",
       "                Male        27573\n",
       " Ajman          Female      41818\n",
       "                Male        44187\n",
       " Sharjah        Female      72397\n",
       "                Male        75581\n",
       " Dubai          Female     175169\n",
       "                Male       184342\n",
       " Abu Dhabi      Female     226515\n",
       "                Male       237019"
      ]
     },
     "execution_count": 41,
     "metadata": {},
     "output_type": "execute_result"
    }
   ],
   "source": [
    "group_emirate.sort_values(by=['Total'])"
   ]
  },
  {
   "cell_type": "code",
   "execution_count": 42,
   "metadata": {},
   "outputs": [
    {
     "data": {
      "image/png": "[encoded data removed]",
      "text/plain": [
       "<Figure size 517.475x432 with 1 Axes>"
      ]
     },
     "metadata": {},
     "output_type": "display_data"
    }
   ],
   "source": [
    "sns.set_theme(style=\"whitegrid\")\n",
    "\n",
    "#penguins = sns.load_dataset(\"penguins\")\n",
    "\n",
    "# Draw a nested barplot by species and sex\n",
    "g = sns.catplot(\n",
    "    data=filt_data, kind=\"bar\",\n",
    "    x=\"Emirate En\", y=\"Total\", hue=\"Gender En\",\n",
    "    ci=\"sd\", palette=\"dark\", alpha=.6, height=6\n",
    ")\n",
    "g.despine(left=True)\n",
    "g.set_axis_labels(\"\", \"Population Count by Gender\")\n",
    "g.legend.set_title(\"\")"
   ]
  },
  {
   "cell_type": "code",
   "execution_count": null,
   "metadata": {},
   "outputs": [],
   "source": []
  },
  {
   "cell_type": "code",
   "execution_count": null,
   "metadata": {},
   "outputs": [],
   "source": []
  }
 ],
 "metadata": {
  "kernelspec": {
   "display_name": "Python 3",
   "language": "python",
   "name": "python3"
  },
  "language_info": {
   "codemirror_mode": {
    "name": "ipython",
    "version": 3
   },
   "file_extension": ".py",
   "mimetype": "text/x-python",
   "name": "python",
   "nbconvert_exporter": "python",
   "pygments_lexer": "ipython3",
   "version": "3.8.5"
  }
 },
 "nbformat": 4,
 "nbformat_minor": 4
}
